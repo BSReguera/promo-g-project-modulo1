{
 "cells": [
  {
   "cell_type": "markdown",
   "metadata": {},
   "source": [
    " # Ahorcado\n",
    "\n",
    "# Reglas del juego del \"Ahorcado\":\n",
    "\n",
    "    - Un jugador elige una palabra secreta y dibuja un espacio para cada letra de la palabra.\n",
    "\n",
    "    - El otro jugador intenta adivinar letras para completar la palabra.\n",
    "\n",
    "    - Si el jugador adivinador adivina una letra correctamente, se revela en su lugar correspondiente.\n",
    "\n",
    "    - Si el jugador adivinador adivina incorrectamente, se dibuja una parte del cuerpo en la horca.\n",
    "\n",
    "    - El objetivo del jugador adivinador es adivinar la palabra antes de que se dibuje el dibujo completo en la horca.\n",
    "\n",
    "\n",
    "# PISTAS (A REALIZAR): \n",
    "\n",
    "    1. Seleccionar una PALABRA SECRETA para que el jugador adivinador intente adivinar. Puedes crear una LISTA PALABRAS. \n",
    "\n",
    "        - LISTA PALABRAS = [\"Felicidad\", \"Avion\", \"Flor\", \"Reloj\", \"Montaña\", \"Mariposa\", \"Guitarra\", \"Cafe\", \"Mapa\", \"Sonrisa\", \"Arbol\", \"Fotografia\"] \n",
    "\n",
    "    2. Inicializa el tablero de juego con GUIONES BAJOS (\"_\") para representar las letras no adivinadas.\n",
    "\n",
    "    3. Utiliza un bucle `WHILE` para permitir que el jugador adivinador haga múltiples intentos hasta que adivine la palabra o se agoten los intentos.\n",
    "\n",
    "    4. Verifica si la letra adivinada por el jugador está en la palabra secreta y actualicen el tablero en consecuencia.\n",
    "\n",
    "    5. Lleva un seguimiento de las letras adivinadas y los intentos fallidos.\n",
    "\n",
    "    6. Determina las condiciones de victoria y derrota del juego, y salgan del bucle cuando se cumplan estas condiciones.\n",
    "\n",
    "    - Derrota del juego: 5 \n",
    "    \n",
    "    - Victoria: Dependerá del número de letras que tenga la palabra \n",
    "\n",
    "\n"
   ]
  },
  {
   "cell_type": "code",
   "execution_count": null,
   "metadata": {},
   "outputs": [],
   "source": []
  },
  {
   "cell_type": "code",
   "execution_count": 2,
   "execution_count": 7,
   "metadata": {},
   "outputs": [
    {
     "name": "stdout",
     "output_type": "stream",
     "text": [
      "['c', 'a', 'f', 'e']\n",
      "Palabra a adivinar:  _  _  _  _ \n",
      "Letra incorrecta\n"
      "['g', 'a', 't', 'o']\n",
      " _  _  _  _ \n",
      "g _  _  _ \n",
      "ga _  _ \n",
      "gat _ \n",
      "gato\n",
      "  ______\n"
     ]
    }
   ],
   "source": [
    "#1. Un jugador elige una palabra secreta \n",
    "\n",
    "palabra_jugador = input(\"Elige tu palabra secreta:\")\n",
    "\n",
    "#2. Dibujar un espacio para cada letra de la palabra\n",
    "letras = list(palabra_jugador)\n",
    "print(letras)\n",
    "diccionario_letras = dict.fromkeys(letras, \" _ \")\n",
    "respuesta = \"\".join(diccionario_letras.values())\n",
    "print(\"Palabra a adivinar:\", respuesta)\n",
    "\n",
    "#3. El otro jugador intenta adivinar letras para completar la palabra\n",
    "intentos = 5 #Número de intentos??\n",
    "#while intentos > 0 and \"_\" in respuesta: Lo ponemos? porque si no solo deja un intento\n",
    "letra = input(\"Indica una letra:\" + respuesta)\n",
    "\n",
    "#4. Verificar si la letra adivinada esta en el tablero y actualizar en consecuencia\n",
    "if letra in letras: \n",
    "    diccionario_letras[letra] = letra\n",
    "    respuesta = \"\".join(diccionario_letras.values())\n",
    "    print(\"!Bien hecho! Letra encontrada:\", respuesta)\n",
    "\n",
    "else: \n",
    "    print(\"Letra incorrecta\")\n",
    "# nota: mirar si añadir while y falta contador vidas\n",
    "\n",
    "\n",
    "    \n",
    "\n",
    "\n",
    "def correcto(letra):\n",
    "        diccionario_letras[letra] = letra\n",
    "        respuesta = \"\".join(diccionario_letras.values())\n",
    "        print(respuesta)\n",
    "        return letra\n",
    "\n",
    "def incorrecto(vidas):\n",
    "        vidas -= 1\n",
    "        return vidas\n",
    "    \n",
    "\n",
    "        \n",
    "while vidas >= 1:\n",
    "    if letra in letras:\n",
    "        correcto(letra)\n",
    "        if respuesta == palabra_jugador:\n",
    "            print(\"¡Has ganado!\")\n",
    "            break\n",
    "\n",
    "\n",
    "    else:\n",
    "        vidas = incorrecto(vidas)\n",
    "        if vidas <= 4:\n",
    "            print(\"  ______\")\n",
    "        if vidas <= 3:\n",
    "            print(\" /      |\")\n",
    "        if vidas <= 2:\n",
    "            print(\"|      (_)\")\n",
    "        if vidas <= 2:\n",
    "            print(\"|      \\|/\")\n",
    "        if vidas <= 1:\n",
    "            print(\"|      / \\ \")\n",
    "            print(\"¡Ahorcado!\")\n",
    "    letra = input(\"Indica una letra para \" + respuesta)\n",
    "        \n",
    "    \n",
    "\n",
    "\n",
    "\n",
    "\n",
    "\n"
   ]
  },
  {
   "cell_type": "code",
   "execution_count": null,
   "metadata": {},
   "outputs": [],
   "source": [
    "while letra != respuesta:\n",
    "    print(\"diferente\")\n",
    "    break\n",
    "else: \n",
    "    print(\"igual\")"
   ]
  },
  {
   "cell_type": "code",
   "execution_count": 4,
   "metadata": {},
   "outputs": [
    {
     "name": "stdout",
     "output_type": "stream",
     "text": [
      " _ a _  _ \n"
     ]
    }
   ],
   "source": [
    "if letra in letras: \n",
    "    diccionario_letras[letra] = letra\n",
    "    respuesta = \"\".join(diccionario_letras.values())\n",
    "    print(respuesta)\n",
    "\n",
    "else: \n",
    "    print(\"no\")\n"
   ]
  },
  {
   "cell_type": "code",
   "execution_count": 1,
   "metadata": {},
   "outputs": [
    {
     "name": "stdout",
     "output_type": "stream",
     "text": [
      "  ______\n",
      " /      |\n",
      "|      (_)\n",
      "|      \\|/\n",
      "|       / \\\n"
     ]
    }
   ],
   "source": [
    "  print(\"  ______\")\n",
    "  print(\" /      |\")\n",
    "  print(\"|      (_)\")\n",
    "  print(\"|      \\|/\")\n",
    "  print(\"|      / \\\")"
   ]
  }
 ],
 "metadata": {
  "kernelspec": {
   "display_name": "base",
   "language": "python",
   "name": "python3"
  },
  "language_info": {
   "codemirror_mode": {
    "name": "ipython",
    "version": 3
   },
   "file_extension": ".py",
   "mimetype": "text/x-python",
   "name": "python",
   "nbconvert_exporter": "python",
   "pygments_lexer": "ipython3",
   "version": "0.0.0"
  }
 },
 "nbformat": 4,
 "nbformat_minor": 2
}
