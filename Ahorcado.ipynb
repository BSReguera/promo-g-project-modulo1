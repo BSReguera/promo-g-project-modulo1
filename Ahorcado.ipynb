{
 "cells": [
  {
   "cell_type": "markdown",
   "metadata": {},
   "source": [
    " # Ahorcado\n",
    "\n",
    "# Reglas del juego del \"Ahorcado\":\n",
    "\n",
    "    - Un jugador elige una palabra secreta y dibuja un espacio para cada letra de la palabra.\n",
    "\n",
    "    - El otro jugador intenta adivinar letras para completar la palabra.\n",
    "\n",
    "    - Si el jugador adivinador adivina una letra correctamente, se revela en su lugar correspondiente.\n",
    "\n",
    "    - Si el jugador adivinador adivina incorrectamente, se dibuja una parte del cuerpo en la horca.\n",
    "\n",
    "    - El objetivo del jugador adivinador es adivinar la palabra antes de que se dibuje el dibujo completo en la horca.\n",
    "\n",
    "\n",
    "# PISTAS (A REALIZAR): \n",
    "\n",
    "    1. Seleccionar una PALABRA SECRETA para que el jugador adivinador intente adivinar. Puedes crear una LISTA PALABRAS. \n",
    "\n",
    "        - LISTA PALABRAS = [\"Felicidad\", \"Avion\", \"Flor\", \"Reloj\", \"Montaña\", \"Mariposa\", \"Guitarra\", \"Cafe\", \"Mapa\", \"Sonrisa\", \"Arbol\", \"Fotografia\"] \n",
    "\n",
    "    2. Inicializa el tablero de juego con GUIONES BAJOS (\"_\") para representar las letras no adivinadas.\n",
    "\n",
    "    3. Utiliza un bucle `WHILE` para permitir que el jugador adivinador haga múltiples intentos hasta que adivine la palabra o se agoten los intentos.\n",
    "\n",
    "    4. Verifica si la letra adivinada por el jugador está en la palabra secreta y actualicen el tablero en consecuencia.\n",
    "\n",
    "    5. Lleva un seguimiento de las letras adivinadas y los intentos fallidos.\n",
    "\n",
    "    6. Determina las condiciones de victoria y derrota del juego, y salgan del bucle cuando se cumplan estas condiciones.\n",
    "\n",
    "    - Derrota del juego: 5 \n",
    "    \n",
    "    - Victoria: Dependerá del número de letras que tenga la palabra \n",
    "\n",
    "\n"
   ]
  }
 ],
 "metadata": {
  "language_info": {
   "name": "python"
  }
 },
 "nbformat": 4,
 "nbformat_minor": 2
}
