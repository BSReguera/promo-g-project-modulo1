{
 "cells": [
  {
   "cell_type": "markdown",
   "metadata": {},
   "source": [
    " # Ahorcado\n",
    "\n",
    "# Reglas del juego del \"Ahorcado\":\n",
    "\n",
    "    - Un jugador elige una palabra secreta y dibuja un espacio para cada letra de la palabra.\n",
    "\n",
    "    - El otro jugador intenta adivinar letras para completar la palabra.\n",
    "\n",
    "    - Si el jugador adivinador adivina una letra correctamente, se revela en su lugar correspondiente.\n",
    "\n",
    "    - Si el jugador adivinador adivina incorrectamente, se dibuja una parte del cuerpo en la horca.\n",
    "\n",
    "    - El objetivo del jugador adivinador es adivinar la palabra antes de que se dibuje el dibujo completo en la horca.\n",
    "\n",
    "\n",
    "# PISTAS (A REALIZAR): \n",
    "\n",
    "    1. Seleccionar una PALABRA SECRETA para que el jugador adivinador intente adivinar. Puedes crear una LISTA PALABRAS. \n",
    "\n",
    "        - LISTA PALABRAS = [\"Felicidad\", \"Avion\", \"Flor\", \"Reloj\", \"Montaña\", \"Mariposa\", \"Guitarra\", \"Cafe\", \"Mapa\", \"Sonrisa\", \"Arbol\", \"Fotografia\"] \n",
    "\n",
    "    2. Inicializa el tablero de juego con GUIONES BAJOS (\"_\") para representar las letras no adivinadas.\n",
    "\n",
    "    3. Utiliza un bucle `WHILE` para permitir que el jugador adivinador haga múltiples intentos hasta que adivine la palabra o se agoten los intentos.\n",
    "\n",
    "    4. Verifica si la letra adivinada por el jugador está en la palabra secreta y actualicen el tablero en consecuencia.\n",
    "\n",
    "    5. Lleva un seguimiento de las letras adivinadas y los intentos fallidos.\n",
    "\n",
    "    6. Determina las condiciones de victoria y derrota del juego, y salgan del bucle cuando se cumplan estas condiciones.\n",
    "\n",
    "    - Derrota del juego: 5 \n",
    "    \n",
    "    - Victoria: Dependerá del número de letras que tenga la palabra \n",
    "\n",
    "\n"
   ]
  },
  {
   "cell_type": "code",
   "execution_count": null,
   "metadata": {},
   "outputs": [],
   "source": []
  },
  {
   "cell_type": "code",
   "execution_count": 2,
   "metadata": {},
   "outputs": [
    {
     "name": "stdout",
     "output_type": "stream",
     "text": [
      "['c', 'a', 'f', 'e']\n",
      "Palabra a adivinar:  _  _  _  _ \n",
      "Letra incorrecta\n"
     ]
    }
   ],
   "source": [
    "#1. Un jugador elige una palabra secreta \n",
    "\n",
    "palabra_jugador = input(\"Elige tu palabra secreta:\")\n",
    "\n",
    "#2. Dibujar un espacio para cada letra de la palabra\n",
    "letras = list(palabra_jugador)\n",
    "print(letras)\n",
    "diccionario_letras = dict.fromkeys(letras, \" _ \")\n",
    "respuesta = \"\".join(diccionario_letras.values())\n",
    "print(\"Palabra a adivinar:\", respuesta)\n",
    "\n",
    "#3. El otro jugador intenta adivinar letras para completar la palabra\n",
    "intentos = 5 #Número de intentos??\n",
    "#while intentos > 0 and \"_\" in respuesta: Lo ponemos? porque si no solo deja un intento\n",
    "letra = input(\"Indica una letra:\" + respuesta)\n",
    "\n",
    "#4. Verificar si la letra adivinada esta en el tablero y actualizar en consecuencia\n",
    "if letra in letras: \n",
    "    diccionario_letras[letra] = letra\n",
    "    respuesta = \"\".join(diccionario_letras.values())\n",
    "    print(\"!Bien hecho! Letra encontrada:\", respuesta)\n",
    "\n",
    "else: \n",
    "    print(\"Letra incorrecta\")\n",
    "# nota: mirar si añadir while y falta contador vidas\n",
    "\n",
    "\n",
    "    \n",
    "\n",
    "\n"
   ]
  },
  {
   "cell_type": "code",
   "execution_count": null,
   "metadata": {},
   "outputs": [],
   "source": [
    "while letra != respuesta:\n",
    "    print(\"diferente\")\n",
    "    break\n",
    "else: \n",
    "    print(\"igual\")"
   ]
  },
  {
   "cell_type": "code",
   "execution_count": null,
   "metadata": {},
   "outputs": [],
   "source": [
    "# Primero, se crea un diccionario llamado palabra_secreta donde las letras de la palabra \"python\" se representan con asteriscos.\n",
    "palabra_secreta = {\"p\": \"*\", \"y\": \"*\", \"t\": \"*\", \"h\": \"*\", \"o\": \"*\", \"n\": \"*\"}\n",
    "\n",
    "# Se establece el número inicial de vidas del jugador en 10.\n",
    "vida = 10\n",
    "\n",
    "# Se crea una variable llamada 'respuesta' que contiene los asteriscos del diccionario como una cadena.\n",
    "respuesta = \"\".join(palabra_secreta.values())\n",
    "\n",
    "# Se inicia un bucle while que se ejecutará mientras la respuesta no sea igual a \"python\" y el jugador tenga al menos 1 vida.\n",
    "while respuesta != \"python\" and vida >= 1:\n",
    "    # Se solicita al jugador que introduzca una letra que pueda estar en la palabra y se convierte a minúsculas.\n",
    "    pregunta = input(\"Introduce una letra que pueda estar en la palabra\").lower()\n",
    "\n",
    "    # Se verifica si la letra ingresada está en la palabra secreta.\n",
    "    if pregunta in palabra_secreta:\n",
    "        # Si la letra está en la palabra, se actualiza el diccionario y se reemplaza el asterisco correspondiente por la letra adivinada.\n",
    "        palabra_secreta[pregunta] = pregunta\n",
    "        respuesta = \"\".join(palabra_secreta.values())\n",
    "        print(respuesta)\n",
    "        print(f\"Te quedan {vida} vidas\")\n",
    "    else:\n",
    "        # Si la letra no está en la palabra, se resta una vida y se muestra el número de vidas restantes.\n",
    "        print(\"Esa letra no se encuentra en la palabra\")\n",
    "        vida -= 1\n",
    "        print(f\"Te quedan {vida} vidas\")\n",
    "\n",
    "# Finalmente, se comprueba si el jugador ha perdido (vida = 0) o ganado (respuesta = \"python\") y se muestra el mensaje correspondiente.\n",
    "if vida == 0:\n",
    "    print(\"Se te acabaron las vidas\")\n",
    "else:\n",
    "    print(f\"¡Enhorabuena!, la palabra era {respuesta}, acabaste con {vida} vidas\")"
   ]
  },
  {
   "cell_type": "code",
   "execution_count": 4,
   "metadata": {},
   "outputs": [
    {
     "name": "stdout",
     "output_type": "stream",
     "text": [
      " _ a _  _ \n"
     ]
    }
   ],
   "source": [
    "if letra in letras: \n",
    "    diccionario_letras[letra] = letra\n",
    "    respuesta = \"\".join(diccionario_letras.values())\n",
    "    print(respuesta)\n",
    "\n",
    "else: \n",
    "    print(\"no\")\n"
   ]
  }
 ],
 "metadata": {
  "kernelspec": {
   "display_name": "base",
   "language": "python",
   "name": "python3"
  },
  "language_info": {
   "codemirror_mode": {
    "name": "ipython",
    "version": 3
   },
   "file_extension": ".py",
   "mimetype": "text/x-python",
   "name": "python",
   "nbconvert_exporter": "python",
   "pygments_lexer": "ipython3",
   "version": "0.0.0"
  }
 },
 "nbformat": 4,
 "nbformat_minor": 2
}
