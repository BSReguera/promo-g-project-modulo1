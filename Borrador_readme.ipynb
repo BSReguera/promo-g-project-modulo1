{
 "cells": [
  {
   "cell_type": "markdown",
   "metadata": {},
   "source": [
    "#Hacer índice y ponerlo 'bonito'.\n",
    "#Gifts de código: ejemplos de cada juego. \n",
    "#Añadir logo.\n",
    "#Ideas de mejora de juegos o aumento de dificultad de juego: temporizador, dar opciones de respuestas al jugador.\n",
    "\n",
    "\n",
    "# INTRODUCCION: \n",
    "¡Bienvenidos! ¿Listo para jugar? Pues entonces, ¡¡¡allá vamos!!! \n",
    "\n",
    "Este proyecto ha sido creado por la empresa Smiley Videogames que forma parte del curso de Data Analytics de Adalab cuyo objetivo ha sido desarrollar los juegos clásicos: \"Piedra Papel o Tijera\", \"Ahorcado\" y \"Juego de preguntas y respuestas\" utilizando Python y métodos que sigan la lógica de estos juegos tradicionales. \n",
    "\n",
    "\n",
    "# GUIA DE INICIO RAPIDO:\n",
    "\n",
    "Para jugar a estos juegos tan solo necesitarás: \n",
    "\n",
    "-Descarga o clona repositorio ??\n",
    "\n",
    "- Cada vez que querramos jugar debemos repetir el mismo proceso de pasos ¿?\n",
    "\n",
    "\n",
    "# ¿CON QUÉ ESTÁN HECHOS?\n",
    "Hemos utilizado Python como lenguaje de programación. \n",
    "Con ello hemos logrado el modo de que el usuario pueda: \n",
    "Iniciar el juego.\n",
    "\n",
    "Gestionar la interacción con el usuario.\n",
    "\n",
    "Evaluar las jugadas.\n",
    "\n",
    "Mostrar el resultado del juego.\n",
    "\n",
    "# NUESTRO OBJETIVO\n",
    "\n",
    "Con este proyecto hemos querido implementar el lenguaje Python en juegos clásicos, a tráves de diferentes métodos y estructuras aprendidas en clase.\n",
    "\n",
    "\n",
    "- Juegos desarrollados:\n",
    "\n",
    "            - Piedra Papel o Tijera: Juego clásico de dos jugadores con tres opciones: Piedra, Papel y Tijera. \n",
    "            Cada opción tiene una relación de victoria/derrota: Piedra > Tijera, Tijera > Papel, Papel > Piedra. \n",
    "            El objetivo es elegir la opción que venza a la del oponente. Se juega en rondas, y el jugador con más rondas ganadas es el vencedor.\n",
    "\n",
    "            - Ahorcado: Un juego de adivinanzas donde un jugador elige una palabra y el otro la adivina letra por letra. \n",
    "            El jugador que adivina tiene un número limitado de intentos. Por cada letra incorrecta, se dibuja una parte del \"ahorcado\". \n",
    "            Si se adivina la palabra antes de completar el dibujo, se gana. Si se completa el dibujo antes de adivinar la palabra, se pierde.\n",
    "\n",
    "            - Juego de preguntas y respuestas: Se formulan preguntas sobre diversos temas y los jugadores deben responder correctamente para avanzar. \n",
    "            Las preguntas pueden abarcar diferentes categorías: historia, ciencias, entretenimiento, cultura general, etc. \n",
    "            El objetivo es responder la mayor cantidad de preguntas correctamente para ganar. \n",
    "            Se puede jugar individualmente o en equipo, siendo una forma divertida de aprender y poner a prueba conocimientos.\n"
   ]
  }
 ],
 "metadata": {
  "language_info": {
   "name": "python"
  }
 },
 "nbformat": 4,
 "nbformat_minor": 2
}
