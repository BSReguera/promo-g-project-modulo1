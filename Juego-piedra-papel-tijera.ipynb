{
 "cells": [
  {
   "cell_type": "markdown",
   "metadata": {},
   "source": [
    "\n",
    "# Juego clásico: Piedra Papel o Tijera\n",
    "\n",
    "- REGLAS DEL JUEGO \"Piedra, Papel o Tijera\":\n",
    "\n",
    "    - Dos jugadores eligen una de las tres opciones: \"Piedra\", \"Papel\" o \"Tijera\".\n",
    "\n",
    "    - Las reglas para determinar al ganador son:\n",
    "        \n",
    "        - Piedra vence a Tijera.\n",
    "\n",
    "        - Tijera vence a Papel.\n",
    "\n",
    "        - Papel vence a Piedra.\n",
    "\n",
    "        - El jugador que gana una ronda obtiene un punto.\n",
    "        \n",
    "        - El juego continúa hasta que un jugador haya acumulado 3 puntos, convirtiéndose en el ganador.\n",
    "\n",
    "\n",
    "- PSEUDOCODIGO DEL JUEGO \"Piedra, Papel o Tijera\":\n",
    "\n",
    "    1. Comienza por definir el número de puntos objetivo que se deben alcanzar para ganar el juego. Definir los puntos y rondas.\n",
    "\n",
    "    2. Implementa una función que obtenga la elección del jugador y valide que sea una de las opciones válidas (\"Piedra\", \"Papel\" o \"Tijera\").\n",
    "    elecciondeljugador = input()\n",
    "            o\tPiedra vence a Tijera.\n",
    "            o\tTijera vence a Papel.\n",
    "            o\tPapel vence a Piedra.\n",
    "\n",
    "    3. Utiliza un bucle `while` para llevar un registro de los puntos de cada jugador y continuar el juego hasta que se alcance el número de puntos objetivo.\n",
    "    \n",
    "    4. Genera una elección aleatoria para el segundo jugador (la computadora) utilizando el módulo `random`.\n",
    "\n",
    "    5. Determina al ganador de cada ronda y actualiza los puntos correspondientes.\n",
    "\n",
    "    6. Verifica si algún jugador ha alcanzado el número de puntos objetivo y finalicen el juego cuando eso suceda.\n"
   ]
  },
  {
   "cell_type": "markdown",
   "metadata": {},
   "source": [
    "CODIGO DEL JUEGO \"Piedra, Papel o Tijera\""
   ]
  },
  {
   "cell_type": "code",
   "execution_count": 6,
   "metadata": {},
   "outputs": [],
   "source": [
    "import random"
   ]
  },
  {
   "cell_type": "code",
   "execution_count": 7,
   "metadata": {},
   "outputs": [],
   "source": [
    "# Definir el numero de puntos objetivo para ganar el juego\n",
    "puntos_objetivo = 3"
   ]
  },
  {
   "cell_type": "code",
   "execution_count": 8,
   "metadata": {},
   "outputs": [],
   "source": [
    "# Inicializar puntos de cada jugador\n",
    "puntos_jugador = 0\n",
    "puntos_computadora = 0"
   ]
  },
  {
   "cell_type": "code",
   "execution_count": 9,
   "metadata": {},
   "outputs": [],
   "source": [
    "# Definir las opciones validas\n",
    "lista_opciones_validas = [\"piedra\", \"papel\", \"tijera\"]"
   ]
  },
  {
   "cell_type": "code",
   "execution_count": 10,
   "metadata": {},
   "outputs": [],
   "source": [
    "# Empezaremos haciendo un bucle principal para repetir el juego según la elección del usuario\n",
    "jugar_de_nuevo = \"sí\"\n",
    "while jugar_de_nuevo == \"sí\" or jugar_de_nuevo == \"si\":\n",
    "\n",
    "# Uso de bucle while,para llevar un registro de la puntuación\n",
    "    while puntos_jugador < puntos_objetivo and puntos_computadora < puntos_objetivo:\n",
    "    # Obtener la elección del jugador y validarla; además de .lower(), para introducir la elección del jugador en minúsculas \n",
    "        eleccion_jugador = input(\"Elige piedra, papel o tijera: \").lower()\n",
    "    while eleccion_jugador not in lista_opciones_validas:\n",
    "        print(\"Opción no válida. Elige piedra, papel o tijera.\")\n",
    "        eleccion_jugador = input(\"Elige piedra, papel o tijera: \").lower()\n",
    "\n",
    "    # Generar la elección aleatoria de la computadora\n",
    "    eleccion_computadora = random.choice(lista_opciones_validas)\n",
    "    print(f\"La computadora elige {eleccion_computadora}\")\n",
    "\n",
    "    # Determinar al ganador de la ronda, siguiendo las reglas\n",
    "    if ((eleccion_jugador == \"piedra\" and eleccion_computadora == \"tijera\") or\n",
    "        (eleccion_jugador == \"tijera\" and eleccion_computadora == \"papel\") or\n",
    "        (eleccion_jugador == \"papel\" and eleccion_computadora == \"piedra\")):\n",
    "        print(\"¡Ganaste la ronda!\")\n",
    "        puntos_jugador += 1\n",
    "    elif ((eleccion_computadora == \"piedra\" and eleccion_jugador == \"tijera\") or\n",
    "        (eleccion_computadora == \"tijera\" and eleccion_jugador == \"papel\") or\n",
    "        (eleccion_computadora == \"papel\" and eleccion_jugador == \"piedra\")):\n",
    "        print(\"La computadora ganó la ronda.\")\n",
    "        puntos_computadora += 1\n",
    "    else:\n",
    "        print(\"La ronda fue un empate.\")\n",
    "    # Mostrar los puntos actuales\n",
    "    print(f\"Puntos - Jugador: {puntos_jugador}, Computadora: {puntos_computadora}\\n\")\n",
    "\n",
    "# Determinar al ganador del juego:\n",
    "if puntos_jugador > puntos_computadora:\n",
    "    print(\"¡Felicidades! ¡Ganaste el juego!\")\n",
    "elif puntos_computadora > puntos_jugador:\n",
    "    print(\"La computadora ha ganado el juego. ¡Inténtalo de nuevo!\")\n",
    "else:\n",
    "    print(\"El juego ha terminado en empate.\")\n",
    "    "
   ]
  },
  {
   "cell_type": "code",
   "execution_count": null,
   "metadata": {},
   "outputs": [],
   "source": [
    "# Pregunta si desea volver a jugar\n",
    "jugar_de_nuevo = input(\"¿Quieres volver a jugar? (sí/no): \").lower()\n",
    "    \n",
    "# Si el usuario decide no jugar de nuevo, el bucle while termina y el programa se finalizara."
   ]
  }
 ],
 "metadata": {
  "kernelspec": {
   "display_name": "base",
   "language": "python",
   "name": "python3"
  },
  "language_info": {
   "codemirror_mode": {
    "name": "ipython",
    "version": 3
   },
   "file_extension": ".py",
   "mimetype": "text/x-python",
   "name": "python",
   "nbconvert_exporter": "python",
   "pygments_lexer": "ipython3",
   "version": "3.9.0"
  }
 },
 "nbformat": 4,
 "nbformat_minor": 2
}
