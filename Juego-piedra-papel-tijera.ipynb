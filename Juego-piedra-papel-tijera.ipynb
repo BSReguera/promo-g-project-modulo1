{
 "cells": [
  {
   "cell_type": "markdown",
   "metadata": {},
   "source": [
    "# Juego clásico: Piedra Papel o Tijera\n",
    "\n",
    "- REGLAS DEL JUEGO \"Piedra, Papel o Tijera\":\n",
    "\n",
    "    - Dos jugadores eligen una de las tres opciones: \"Piedra\", \"Papel\" o \"Tijera\".\n",
    "\n",
    "    - Las reglas para determinar al ganador son:\n",
    "        \n",
    "        - Piedra vence a Tijera.\n",
    "\n",
    "        - Tijera vence a Papel.\n",
    "\n",
    "        - Papel vence a Piedra.\n",
    "\n",
    "        - El jugador que gana una ronda obtiene un punto.\n",
    "        \n",
    "        - El juego continúa hasta que un jugador haya acumulado 3 puntos, convirtiéndose en el ganador."
   ]
  },
  {
   "cell_type": "markdown",
   "metadata": {},
   "source": [
    "CODIGO DEL JUEGO \"Piedra, Papel o Tijera\""
   ]
  },
  {
   "cell_type": "code",
   "execution_count": 3,
   "metadata": {},
   "outputs": [],
   "source": [
    "import random"
   ]
  },
  {
   "cell_type": "code",
   "execution_count": 4,
   "metadata": {},
   "outputs": [],
   "source": [
    "# Definir el numero de puntos objetivo para ganar el juego\n",
    "puntos_objetivo = 3"
   ]
  },
  {
   "cell_type": "code",
   "execution_count": 6,
   "metadata": {},
   "outputs": [],
   "source": [
    "# Definir las opciones validas\n",
    "lista_opciones_validas = [\"piedra\", \"papel\", \"tijera\"]"
   ]
  },
  {
   "cell_type": "code",
   "execution_count": 7,
   "metadata": {},
   "outputs": [
    {
     "ename": "NameError",
     "evalue": "name 'puntos_jugador' is not defined",
     "output_type": "error",
     "traceback": [
      "\u001b[0;31m---------------------------------------------------------------------------\u001b[0m",
      "\u001b[0;31mNameError\u001b[0m                                 Traceback (most recent call last)",
      "Input \u001b[0;32mIn [7]\u001b[0m, in \u001b[0;36m<cell line: 4>\u001b[0;34m()\u001b[0m\n\u001b[1;32m      2\u001b[0m jugar_de_nuevo \u001b[38;5;241m=\u001b[39m \u001b[38;5;124m\"\u001b[39m\u001b[38;5;124msí\u001b[39m\u001b[38;5;124m\"\u001b[39m\n\u001b[1;32m      4\u001b[0m \u001b[38;5;28;01mwhile\u001b[39;00m jugar_de_nuevo \u001b[38;5;241m==\u001b[39m \u001b[38;5;124m\"\u001b[39m\u001b[38;5;124msí\u001b[39m\u001b[38;5;124m\"\u001b[39m \u001b[38;5;129;01mor\u001b[39;00m jugar_de_nuevo \u001b[38;5;241m==\u001b[39m \u001b[38;5;124m\"\u001b[39m\u001b[38;5;124msi\u001b[39m\u001b[38;5;124m\"\u001b[39m:\n\u001b[1;32m      5\u001b[0m \n\u001b[1;32m      6\u001b[0m     \u001b[38;5;66;03m# Uso de bucle while,para llevar un registro de la puntuación\u001b[39;00m\n\u001b[0;32m----> 7\u001b[0m         \u001b[38;5;28;01mwhile\u001b[39;00m \u001b[43mpuntos_jugador\u001b[49m \u001b[38;5;241m<\u001b[39m puntos_objetivo \u001b[38;5;129;01mand\u001b[39;00m puntos_computadora \u001b[38;5;241m<\u001b[39m puntos_objetivo:\n\u001b[1;32m      8\u001b[0m         \u001b[38;5;66;03m# Obtener la elección del jugador y validarla; además de .lower(), para introducir la elección del jugador en minúsculas \u001b[39;00m\n\u001b[1;32m      9\u001b[0m             eleccion_jugador \u001b[38;5;241m=\u001b[39m \u001b[38;5;28minput\u001b[39m(\u001b[38;5;124m\"\u001b[39m\u001b[38;5;124mElige piedra, papel o tijera: \u001b[39m\u001b[38;5;124m\"\u001b[39m)\u001b[38;5;241m.\u001b[39mlower()\n\u001b[1;32m     10\u001b[0m         \u001b[38;5;28;01mwhile\u001b[39;00m eleccion_jugador \u001b[38;5;129;01mnot\u001b[39;00m \u001b[38;5;129;01min\u001b[39;00m lista_opciones_validas:\n",
      "\u001b[0;31mNameError\u001b[0m: name 'puntos_jugador' is not defined"
     ]
    }
   ],
   "source": [
    "# Empezaremos haciendo un bucle principal para repetir el juego según la elección del usuario\n",
    "jugar_de_nuevo = \"sí\"\n",
    "\n",
    "while jugar_de_nuevo == \"sí\" or jugar_de_nuevo == \"si\":\n",
    "\n",
    "    # Uso de bucle while,para llevar un registro de la puntuación\n",
    "        while puntos_jugador < puntos_objetivo and puntos_computadora < puntos_objetivo:\n",
    "        # Obtener la elección del jugador y validarla; además de .lower(), para introducir la elección del jugador en minúsculas \n",
    "            eleccion_jugador = input(\"Elige piedra, papel o tijera: \").lower()\n",
    "        while eleccion_jugador not in lista_opciones_validas:\n",
    "            print(\"Opción no válida. Elige piedra, papel o tijera.\")\n",
    "            eleccion_jugador = input(\"Elige piedra, papel o tijera: \").lower()\n",
    "\n",
    "        # Generar la elección aleatoria de la computadora\n",
    "        eleccion_computadora = random.choice(lista_opciones_validas)\n",
    "        print(f\"La computadora elige {eleccion_computadora}\")\n",
    "\n",
    "        # Determinar al ganador de la ronda, siguiendo las reglas\n",
    "        if ((eleccion_jugador == \"piedra\" and eleccion_computadora == \"tijera\") or\n",
    "            (eleccion_jugador == \"tijera\" and eleccion_computadora == \"papel\") or\n",
    "            (eleccion_jugador == \"papel\" and eleccion_computadora == \"piedra\")):\n",
    "            print(\"¡Ganaste la ronda!\")\n",
    "            puntos_jugador += 1\n",
    "        elif ((eleccion_computadora == \"piedra\" and eleccion_jugador == \"tijera\") or\n",
    "            (eleccion_computadora == \"tijera\" and eleccion_jugador == \"papel\") or\n",
    "            (eleccion_computadora == \"papel\" and eleccion_jugador == \"piedra\")):\n",
    "            print(\"La computadora ganó la ronda.\")\n",
    "            puntos_computadora += 1\n",
    "        else:\n",
    "            print(\"La ronda fue un empate.\")\n",
    "            \n",
    "        # Mostrar los puntos actuales\n",
    "        print(f\"Puntos - Jugador: {puntos_jugador}, Computadora: {puntos_computadora}\\n\")\n",
    "\n",
    "    # Determinar al ganador del juego:\n",
    "        if puntos_jugador > puntos_computadora:\n",
    "            print(\"¡Felicidades! ¡Ganaste el juego!\")\n",
    "        elif puntos_computadora > puntos_jugador:\n",
    "            print(\"La computadora ha ganado el juego. ¡Inténtalo de nuevo!\")\n",
    "        else:\n",
    "            print(\"El juego ha terminado en empate.\")"
   ]
  },
  {
   "cell_type": "code",
   "execution_count": null,
   "metadata": {},
   "outputs": [],
   "source": [
    "# Pregunta si desea volver a jugar\n",
    "jugar_de_nuevo = input(\"¿Quieres volver a jugar? (sí/no): \").lower()\n",
    "    \n",
    "# Si el usuario decide no jugar de nuevo, el bucle while termina y el programa se finalizara."
   ]
  },
  {
   "cell_type": "code",
   "execution_count": 17,
   "metadata": {},
   "outputs": [],
   "source": [
    "#JUEGO AUTOMATIZADO:\n",
    "import random\n",
    "\n",
    "class Juego:\n",
    "\n",
    "    def __init__(self, nombre, instrucciones):\n",
    "        self.nombre = nombre\n",
    "        self.instrucciones = instrucciones\n",
    "        \n",
    "    def reiniciar_juego(self):\n",
    "        print(\"El juego se ha reiniciado.\") \n",
    "        \n",
    "class PiedraPapelTijera(Juego):\n",
    "    def __init__(self, instrucciones):\n",
    "        # Definimos variables \"intrucciones\" \n",
    "        \n",
    "        \n",
    "        super().__init__('juego_piedra_papel_tijera', instrucciones)\n",
    "\n",
    "    def mostrar_instrucciones(self):\n",
    "        print(f'Instrucciones para {self.nombre}: {self.instrucciones}')\n",
    "                      \n",
    "    def finalizar_juego(self):  \n",
    "        print(\"El juego ha finalizado.\")\n",
    "        \n",
    "    def jugar(self):\n",
    "        # Definir el numero de puntos objetivo para ganar el juego\n",
    "        puntos_objetivo = 3\n",
    "        \n",
    "        # Inicializar puntos de cada jugador\n",
    "        puntos_jugador = 0\n",
    "        puntos_computadora = 0\n",
    "        \n",
    "        # Definir las opciones validas\n",
    "        lista_opciones_validas = [\"piedra\", \"papel\", \"tijera\"]\n",
    "        \n",
    "        # Uso de bucle while,para llevar un registro de la puntuación\n",
    "        while puntos_jugador < puntos_objetivo and puntos_computadora < puntos_objetivo:\n",
    "                # Obtener la elección del jugador y validarla; además de .lower(), para introducir la elección del jugador en minúsculas \n",
    "                eleccion_jugador = input(\"Elige piedra, papel o tijera: \").lower()\n",
    "                while eleccion_jugador not in lista_opciones_validas:\n",
    "                    print(\"Opción no válida. Elige piedra, papel o tijera.\")\n",
    "                    eleccion_jugador = input(\"Elige piedra, papel o tijera: \").lower()\n",
    "\n",
    "                    # Generar la elección aleatoria de la computadora\n",
    "                eleccion_computadora = random.choice(lista_opciones_validas)\n",
    "                print(f\"La computadora elige {eleccion_computadora}\")\n",
    "\n",
    "                # Determinar al ganador de la ronda, siguiendo las reglas\n",
    "                if ((eleccion_jugador == \"piedra\" and eleccion_computadora == \"tijera\") or\n",
    "                    (eleccion_jugador == \"tijera\" and eleccion_computadora == \"papel\") or\n",
    "                    (eleccion_jugador == \"papel\" and eleccion_computadora == \"piedra\")):\n",
    "                    print(\"¡Ganaste la ronda!\")\n",
    "                    puntos_jugador += 1\n",
    "                elif ((eleccion_computadora == \"piedra\" and eleccion_jugador == \"tijera\") or\n",
    "                    (eleccion_computadora == \"tijera\" and eleccion_jugador == \"papel\") or\n",
    "                    (eleccion_computadora == \"papel\" and eleccion_jugador == \"piedra\")):\n",
    "                    print(\"La computadora ganó la ronda.\")\n",
    "                    puntos_computadora += 1\n",
    "                else:\n",
    "                    print(\"La ronda fue un empate.\")\n",
    "                        \n",
    "                    # Mostrar los puntos actuales\n",
    "                    print(f\"Puntos - Jugador: {puntos_jugador}, Computadora: {puntos_computadora}\\n\")\n",
    "\n",
    "            # Determinar al ganador del juego:\n",
    "                if puntos_jugador > puntos_computadora:\n",
    "                    print(\"¡Felicidades! ¡Ganaste el juego!\")\n",
    "                elif puntos_computadora > puntos_jugador:\n",
    "                    print(\"La computadora ha ganado el juego. ¡Inténtalo de nuevo!\")\n",
    "                else:\n",
    "                    print(\"El juego ha terminado en empate.\")\n",
    "                            "
   ]
  },
  {
   "cell_type": "code",
   "execution_count": 18,
   "metadata": {},
   "outputs": [
    {
     "name": "stdout",
     "output_type": "stream",
     "text": [
      "Instrucciones para juego_piedra_papel_tijera: piedra_papel_tijera\n",
      "La computadora elige tijera\n",
      "¡Ganaste la ronda!\n",
      "Puntos - Jugador: 1, Computadora: 0\n",
      "\n",
      "La computadora elige piedra\n",
      "¡Ganaste la ronda!\n",
      "Puntos - Jugador: 2, Computadora: 0\n",
      "\n",
      "La computadora elige piedra\n",
      "La computadora ganó la ronda.\n",
      "Puntos - Jugador: 2, Computadora: 1\n",
      "\n",
      "La computadora elige piedra\n",
      "¡Ganaste la ronda!\n",
      "Puntos - Jugador: 3, Computadora: 1\n",
      "\n",
      "¡Felicidades! ¡Ganaste el juego!\n",
      "El juego ha finalizado.\n"
     ]
    }
   ],
   "source": [
    "juego2 = PiedraPapelTijera(Juego)\n",
    "\n",
    "# Creamos una instancia del juego de piedra, papel o tijera\n",
    "juego_piedra_papel_tijera = PiedraPapelTijera(\"piedra_papel_tijera\")\n",
    "\n",
    "# Mostramos al usuario las instrucciones del juego\n",
    "juego_piedra_papel_tijera.mostrar_instrucciones()\n",
    "\n",
    "# Iniciamos el juego: \n",
    "juego_piedra_papel_tijera.jugar()\n",
    "\n",
    "# Finalizar el juego:\n",
    "juego_piedra_papel_tijera.finalizar_juego()"
   ]
  }
 ],
 "metadata": {
  "kernelspec": {
   "display_name": "base",
   "language": "python",
   "name": "python3"
  },
  "language_info": {
   "codemirror_mode": {
    "name": "ipython",
    "version": 3
   },
   "file_extension": ".py",
   "mimetype": "text/x-python",
   "name": "python",
   "nbconvert_exporter": "python",
   "pygments_lexer": "ipython3",
   "version": "3.9.0"
  }
 },
 "nbformat": 4,
 "nbformat_minor": 2
}
