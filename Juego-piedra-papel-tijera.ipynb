{
 "cells": [
  {
   "cell_type": "markdown",
   "metadata": {},
   "source": [
    "\n",
    "# Juego clásico: Piedra Papel o Tijera\n",
    "\n",
    "- REGLAS DEL JUEGO \"Piedra, Papel o Tijera\":\n",
    "\n",
    "    - Dos jugadores eligen una de las tres opciones: \"Piedra\", \"Papel\" o \"Tijera\".\n",
    "\n",
    "    - Las reglas para determinar al ganador son:\n",
    "        \n",
    "        - Piedra vence a Tijera.\n",
    "\n",
    "        - Tijera vence a Papel.\n",
    "\n",
    "        - Papel vence a Piedra.\n",
    "\n",
    "        - El jugador que gana una ronda obtiene un punto.\n",
    "        \n",
    "        - El juego continúa hasta que un jugador haya acumulado 3 puntos, convirtiéndose en el ganador.\n",
    "\n",
    "\n",
    "- PSEUDOCODIGO DEL JUEGO \"Piedra, Papel o Tijera\":\n",
    "\n",
    "    1. Comienza por definir el número de puntos objetivo que se deben alcanzar para ganar el juego. Definir los puntos y rondas.\n",
    "\n",
    "    2. Implementa una función que obtenga la elección del jugador y valide que sea una de las opciones válidas (\"Piedra\", \"Papel\" o \"Tijera\").\n",
    "    elecciondeljugador = input()\n",
    "            o\tPiedra vence a Tijera.\n",
    "            o\tTijera vence a Papel.\n",
    "            o\tPapel vence a Piedra.\n",
    "\n",
    "    3. Utiliza un bucle `while` para llevar un registro de los puntos de cada jugador y continuar el juego hasta que se alcance el número de puntos objetivo.\n",
    "    \n",
    "    4. Genera una elección aleatoria para el segundo jugador (la computadora) utilizando el módulo `random`.\n",
    "\n",
    "    5. Determina al ganador de cada ronda y actualiza los puntos correspondientes.\n",
    "\n",
    "    6. Verifica si algún jugador ha alcanzado el número de puntos objetivo y finalicen el juego cuando eso suceda.\n"
   ]
  },
  {
   "cell_type": "markdown",
   "metadata": {},
   "source": [
    "CODIGO DEL JUEGO \"Piedra, Papel o Tijera\""
   ]
  },
  {
   "cell_type": "code",
   "execution_count": 3,
   "metadata": {},
   "outputs": [],
   "source": [
    "import random"
   ]
  },
  {
   "cell_type": "code",
   "execution_count": 4,
   "metadata": {},
   "outputs": [],
   "source": [
    "# Definir el numero de puntos objetivo para ganar el juego\n",
    "puntos_objetivo = 3"
   ]
  },
  {
   "cell_type": "code",
   "execution_count": 5,
   "metadata": {},
   "outputs": [],
   "source": [
    "# Inicializar puntos de cada jugador\n",
    "puntos_jugador = 0\n",
    "puntos_computadora = 0"
   ]
  },
  {
   "cell_type": "code",
   "execution_count": 6,
   "metadata": {},
   "outputs": [],
   "source": [
    "# Definir las opciones validas\n",
    "lista_opciones_validas = [\"piedra\", \"papel\", \"tijera\"]"
   ]
  },
  {
   "cell_type": "code",
   "execution_count": 7,
   "metadata": {},
   "outputs": [],
   "source": [
    "# Empezaremos haciendo un bucle principal para repetir el juego según la elección del usuario\n",
    "jugar_de_nuevo = \"sí\"\n",
    "while jugar_de_nuevo == \"sí\" or jugar_de_nuevo == \"si\":\n",
    "\n",
    "# Uso de bucle while,para llevar un registro de la puntuación\n",
    "    while puntos_jugador < puntos_objetivo and puntos_computadora < puntos_objetivo:\n",
    "    # Obtener la elección del jugador y validarla; además de .lower(), para introducir la elección del jugador en minúsculas \n",
    "        eleccion_jugador = input(\"Elige piedra, papel o tijera: \").lower()\n",
    "    while eleccion_jugador not in lista_opciones_validas:\n",
    "        print(\"Opción no válida. Elige piedra, papel o tijera.\")\n",
    "        eleccion_jugador = input(\"Elige piedra, papel o tijera: \").lower()\n",
    "\n",
    "    # Generar la elección aleatoria de la computadora\n",
    "    eleccion_computadora = random.choice(lista_opciones_validas)\n",
    "    print(f\"La computadora elige {eleccion_computadora}\")\n",
    "\n",
    "    # Determinar al ganador de la ronda, siguiendo las reglas\n",
    "    if ((eleccion_jugador == \"piedra\" and eleccion_computadora == \"tijera\") or\n",
    "        (eleccion_jugador == \"tijera\" and eleccion_computadora == \"papel\") or\n",
    "        (eleccion_jugador == \"papel\" and eleccion_computadora == \"piedra\")):\n",
    "        print(\"¡Ganaste la ronda!\")\n",
    "        puntos_jugador += 1\n",
    "    elif ((eleccion_computadora == \"piedra\" and eleccion_jugador == \"tijera\") or\n",
    "        (eleccion_computadora == \"tijera\" and eleccion_jugador == \"papel\") or\n",
    "        (eleccion_computadora == \"papel\" and eleccion_jugador == \"piedra\")):\n",
    "        print(\"La computadora ganó la ronda.\")\n",
    "        puntos_computadora += 1\n",
    "    else:\n",
    "        print(\"La ronda fue un empate.\")\n",
    "    # Mostrar los puntos actuales\n",
    "    print(f\"Puntos - Jugador: {puntos_jugador}, Computadora: {puntos_computadora}\\n\")\n",
    "    \n",
    "# Pregunta si desea volver a jugar\n",
    "    jugar_de_nuevo = input(\"¿Quieres volver a jugar? (sí/no): \").lower()\n",
    "    \n",
    "# Si el usuario decide no jugar de nuevo, el bucle while termina y el programa se finalizara."
   ]
  },
  {
   "cell_type": "code",
   "execution_count": null,
   "metadata": {},
   "outputs": [
    {
     "ename": "NameError",
     "evalue": "name 'puntos_jugador' is not defined",
     "output_type": "error",
     "traceback": [
      "\u001b[0;31m---------------------------------------------------------------------------\u001b[0m",
      "\u001b[0;31mNameError\u001b[0m                                 Traceback (most recent call last)",
      "Input \u001b[0;32mIn [1]\u001b[0m, in \u001b[0;36m<cell line: 2>\u001b[0;34m()\u001b[0m\n\u001b[1;32m      1\u001b[0m \u001b[38;5;66;03m# Determinar al ganador del juego:\u001b[39;00m\n\u001b[0;32m----> 2\u001b[0m \u001b[38;5;28;01mif\u001b[39;00m \u001b[43mpuntos_jugador\u001b[49m \u001b[38;5;241m>\u001b[39m puntos_computadora:\n\u001b[1;32m      3\u001b[0m     \u001b[38;5;28mprint\u001b[39m(\u001b[38;5;124m\"\u001b[39m\u001b[38;5;124m¡Felicidades! ¡Ganaste el juego!\u001b[39m\u001b[38;5;124m\"\u001b[39m)\n\u001b[1;32m      4\u001b[0m \u001b[38;5;28;01melse\u001b[39;00m:\n",
      "\u001b[0;31mNameError\u001b[0m: name 'puntos_jugador' is not defined"
     ]
    }
   ],
   "source": [
    "# Determinar al ganador del juego:\n",
    "if puntos_jugador > puntos_computadora:\n",
    "    print(\"¡Felicidades! ¡Ganaste el juego!\")\n",
    "else:\n",
    "    print(\"La computadora ganó el juego. ¡Prueba otra vez!\")"
   ]
  }
 ],
 "metadata": {
  "kernelspec": {
   "display_name": "base",
   "language": "python",
   "name": "python3"
  },
  "language_info": {
   "codemirror_mode": {
    "name": "ipython",
    "version": 3
   },
   "file_extension": ".py",
   "mimetype": "text/x-python",
   "name": "python",
   "nbconvert_exporter": "python",
   "pygments_lexer": "ipython3",
   "version": "3.9.12"
  }
 },
 "nbformat": 4,
 "nbformat_minor": 2
}
