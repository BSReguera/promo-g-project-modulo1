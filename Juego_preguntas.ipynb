{
 "cells": [
  {
   "cell_type": "markdown",
   "metadata": {},
   "source": [
    "\n",
    "\n",
    "# JUEGO PREGUNTAS Y RESPUESTAS\n",
    "\n",
    "    - Reglas del Juego de \"Preguntas y Respuestas de Geografía\":\n",
    "\n",
    "    - El juego consiste en hacer preguntas de geografía y que el jugador adivine la respuesta correcta.\n",
    "\n",
    "    - Cada pregunta tiene una respuesta única y correcta.\n",
    "\n",
    "    - El jugador tiene un número limitado de intentos para responder correctamente a cada pregunta.\n",
    "\n",
    "    - El juego sigue hasta que el jugador responda incorrectamente 3 de veces o haya respondido 5 preguntas correctamente.\n",
    "\n",
    "\n",
    "## PISTAS \n",
    "\n",
    "    1. Definir DICCIONARIOS preguntas:respuestas.\n",
    "\n",
    "    2. Crear función para seleccionar una pregunta aleatoria del diccionario. \n",
    "\n",
    "    3. Utiliza un bucle 'WHILE' para hacer preguntas de geografía. \n",
    "\n",
    "    4. Dentro del bucle, presenta la pregunta al jugador y uso de input para que responda. \n",
    "\n",
    "    5. Lleva un seguimiento del número de preguntas realizadas y el número de respuestas correctas. \n",
    "\n",
    "    6. Determina las condiciones de victoria y derrota del juego y sal del bucle cuando se cumplan estas condiciones.\n",
    " \n"
   ]
  }
 ],
 "metadata": {
  "language_info": {
   "name": "python"
  }
 },
 "nbformat": 4,
 "nbformat_minor": 2
}
