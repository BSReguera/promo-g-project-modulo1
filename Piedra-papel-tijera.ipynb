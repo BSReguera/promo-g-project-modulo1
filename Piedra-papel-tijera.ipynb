{
 "cells": [
  {
   "cell_type": "markdown",
   "metadata": {},
   "source": [
    "\n",
    "# JUEGO PIEDRA, PAPEL O TIJERA:\n",
    "\n",
    "# ESCENARIO\n",
    "\n",
    " - Este es un juego clásico en el que DOS JUGADORES seleccionan una de tres opciones: Piedra, Papel o Tijera. \n",
    " \n",
    " - Cada opción tiene una relación de victoria diferente: la Piedra vence a la Tijera, la Tijera vence al Papel y el Papel vence a la Piedra. \n",
    " \n",
    " - El objetivo del juego es elegir la opción que vencerá a la opción seleccionada por el oponente. \n",
    " \n",
    " - El juego se juega en rondas y el jugador que gana más rondas es el ganador del juego.\n",
    "\n",
    "# Reglas del Juego \"Piedra, Papel y Tijera\":\n",
    "\n",
    "    - Dos jugadores eligen una de las tres opciones: \"Piedra\", \"Papel\" o \"Tijera\".\n",
    "\n",
    "    - Las reglas para determinar al ganador son:\n",
    "        \n",
    "        - Piedra vence a Tijera.\n",
    "\n",
    "        - Tijera vence a Papel.\n",
    "\n",
    "        - Papel vence a Piedra.\n",
    "\n",
    "        - El jugador que gana una ronda obtiene un punto.\n",
    "        \n",
    "        - El juego continúa hasta que un jugador haya acumulado 3 puntos, convirtiéndose en el ganador.\n",
    "\n",
    "\n",
    "# PSEUDOCÓDIGO: \n",
import random
lista = ["piedra", "papel", "tijera"]
random.choice(lista)

    "\n",
    "    1. Definir el número de puntos objetivo que se deben alcanzar para ganar el juego. \n",

    "\n",num_puntos_objetivo = 3
    "       - 1 punto por ronda ganada. Cuando haya acumulado 3 puntos se convierte en ganador. \n",
    "\n",
    "       - Ganador con 3 puntos. Número de rondas [?]\n",
    "       \n",
    "       - En caso de empate [?]\n",
    "\n",
    "    2. Implementa una función que obtenga la elección del jugador y valide que sea una de las opciones válidas (\"Piedra\", \"Papel\" o \"Tijera\").\n",
elecciondeljugador = input()
o	Piedra vence a Tijera.
o	Tijera vence a Papel.
o	Papel vence a Piedra.
if....
elif...
else:
    "\n",
    "    3. Utiliza un bucle `WHILE` para llevar un registro de los puntos de cada jugador y continuar el juego hasta que se alcance el número de \n",
    "    \n",
    "    puntos objetivo.\n",
while----
que se pare en 3 puntos.
    "\n",
    "    4. Genera una elección aleatoria para el segundo jugador (la computadora) utilizando el módulo `random`. imput random/ random.choice\n",
import random
lista = ["piedra", "papel", "tijera"]
random.choice(lista)

    "\n",
    "    5. Determina al ganador de cada ronda y actualiza los puntos correspondientes.\n",
    "\n",
    "    6. Verifica si algún jugador ha alcanzado el número de puntos objetivo y finalicen el juego cuando eso suceda.\n",
    "\n",
    "\n",
    "\n"
   ]
  }
 ],
 "metadata": {
  "language_info": {
   "name": "python"
  }
 },
 "nbformat": 4,
 "nbformat_minor": 2
}
