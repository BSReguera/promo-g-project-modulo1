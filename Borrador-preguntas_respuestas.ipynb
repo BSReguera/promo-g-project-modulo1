{
 "cells": [
  {
   "cell_type": "code",
   "execution_count": 1,
   "metadata": {},
   "outputs": [
    {
     "name": "stdout",
     "output_type": "stream",
     "text": [
      "Respuesta incorrecta. Inténtalo de nuevo.\n",
      "Respuesta incorrecta. Inténtalo de nuevo.\n",
      "Respuesta incorrecta. Inténtalo de nuevo.\n",
      "Respuesta incorrecta. Inténtalo de nuevo.\n",
      "Respuesta incorrecta. Inténtalo de nuevo.\n",
      "Respuesta incorrecta. Inténtalo de nuevo.\n",
      "Respuesta incorrecta. Inténtalo de nuevo.\n"
     ]
    },
    {
     "ename": "KeyboardInterrupt",
     "evalue": "Interrupted by user",
     "output_type": "error",
     "traceback": [
      "\u001b[0;31m---------------------------------------------------------------------------\u001b[0m",
      "\u001b[0;31mKeyboardInterrupt\u001b[0m                         Traceback (most recent call last)",
      "\u001b[0;32m/tmp/ipykernel_23752/2747436392.py\u001b[0m in \u001b[0;36m<module>\u001b[0;34m\u001b[0m\n\u001b[1;32m     49\u001b[0m \u001b[0;32mwhile\u001b[0m \u001b[0mrespuestas_correctas\u001b[0m \u001b[0;34m<=\u001b[0m \u001b[0;36m5\u001b[0m \u001b[0;32mor\u001b[0m \u001b[0mrespuestas_incorrectas\u001b[0m \u001b[0;34m<\u001b[0m \u001b[0;36m3\u001b[0m\u001b[0;34m:\u001b[0m\u001b[0;34m\u001b[0m\u001b[0;34m\u001b[0m\u001b[0m\n\u001b[1;32m     50\u001b[0m     \u001b[0mpregunta\u001b[0m \u001b[0;34m=\u001b[0m \u001b[0mrandom\u001b[0m\u001b[0;34m.\u001b[0m\u001b[0mchoice\u001b[0m\u001b[0;34m(\u001b[0m\u001b[0mlista_preguntas\u001b[0m\u001b[0;34m)\u001b[0m\u001b[0;34m\u001b[0m\u001b[0;34m\u001b[0m\u001b[0m\n\u001b[0;32m---> 51\u001b[0;31m     \u001b[0minput\u001b[0m\u001b[0;34m(\u001b[0m\u001b[0mpregunta\u001b[0m\u001b[0;34m)\u001b[0m\u001b[0;34m\u001b[0m\u001b[0;34m\u001b[0m\u001b[0m\n\u001b[0m\u001b[1;32m     52\u001b[0m     \u001b[0mrespuesta_usuario\u001b[0m \u001b[0;34m=\u001b[0m \u001b[0minput\u001b[0m\u001b[0;34m(\u001b[0m\u001b[0;34m'Inserte aquí su respuesta: '\u001b[0m\u001b[0;34m)\u001b[0m\u001b[0;34m.\u001b[0m\u001b[0mlower\u001b[0m\u001b[0;34m(\u001b[0m\u001b[0;34m)\u001b[0m\u001b[0;34m\u001b[0m\u001b[0;34m\u001b[0m\u001b[0m\n\u001b[1;32m     53\u001b[0m \u001b[0;34m\u001b[0m\u001b[0m\n",
      "\u001b[0;32m~/anaconda3/lib/python3.9/site-packages/ipykernel/kernelbase.py\u001b[0m in \u001b[0;36mraw_input\u001b[0;34m(self, prompt)\u001b[0m\n\u001b[1;32m   1004\u001b[0m                 \u001b[0;34m\"raw_input was called, but this frontend does not support input requests.\"\u001b[0m\u001b[0;34m\u001b[0m\u001b[0;34m\u001b[0m\u001b[0m\n\u001b[1;32m   1005\u001b[0m             )\n\u001b[0;32m-> 1006\u001b[0;31m         return self._input_request(\n\u001b[0m\u001b[1;32m   1007\u001b[0m             \u001b[0mstr\u001b[0m\u001b[0;34m(\u001b[0m\u001b[0mprompt\u001b[0m\u001b[0;34m)\u001b[0m\u001b[0;34m,\u001b[0m\u001b[0;34m\u001b[0m\u001b[0;34m\u001b[0m\u001b[0m\n\u001b[1;32m   1008\u001b[0m             \u001b[0mself\u001b[0m\u001b[0;34m.\u001b[0m\u001b[0m_parent_ident\u001b[0m\u001b[0;34m[\u001b[0m\u001b[0;34m\"shell\"\u001b[0m\u001b[0;34m]\u001b[0m\u001b[0;34m,\u001b[0m\u001b[0;34m\u001b[0m\u001b[0;34m\u001b[0m\u001b[0m\n",
      "\u001b[0;32m~/anaconda3/lib/python3.9/site-packages/ipykernel/kernelbase.py\u001b[0m in \u001b[0;36m_input_request\u001b[0;34m(self, prompt, ident, parent, password)\u001b[0m\n\u001b[1;32m   1049\u001b[0m             \u001b[0;32mexcept\u001b[0m \u001b[0mKeyboardInterrupt\u001b[0m\u001b[0;34m:\u001b[0m\u001b[0;34m\u001b[0m\u001b[0;34m\u001b[0m\u001b[0m\n\u001b[1;32m   1050\u001b[0m                 \u001b[0;31m# re-raise KeyboardInterrupt, to truncate traceback\u001b[0m\u001b[0;34m\u001b[0m\u001b[0;34m\u001b[0m\u001b[0m\n\u001b[0;32m-> 1051\u001b[0;31m                 \u001b[0;32mraise\u001b[0m \u001b[0mKeyboardInterrupt\u001b[0m\u001b[0;34m(\u001b[0m\u001b[0;34m\"Interrupted by user\"\u001b[0m\u001b[0;34m)\u001b[0m \u001b[0;32mfrom\u001b[0m \u001b[0;32mNone\u001b[0m\u001b[0;34m\u001b[0m\u001b[0;34m\u001b[0m\u001b[0m\n\u001b[0m\u001b[1;32m   1052\u001b[0m             \u001b[0;32mexcept\u001b[0m \u001b[0mException\u001b[0m\u001b[0;34m:\u001b[0m\u001b[0;34m\u001b[0m\u001b[0;34m\u001b[0m\u001b[0m\n\u001b[1;32m   1053\u001b[0m                 \u001b[0mself\u001b[0m\u001b[0;34m.\u001b[0m\u001b[0mlog\u001b[0m\u001b[0;34m.\u001b[0m\u001b[0mwarning\u001b[0m\u001b[0;34m(\u001b[0m\u001b[0;34m\"Invalid Message:\"\u001b[0m\u001b[0;34m,\u001b[0m \u001b[0mexc_info\u001b[0m\u001b[0;34m=\u001b[0m\u001b[0;32mTrue\u001b[0m\u001b[0;34m)\u001b[0m\u001b[0;34m\u001b[0m\u001b[0;34m\u001b[0m\u001b[0m\n",
      "\u001b[0;31mKeyboardInterrupt\u001b[0m: Interrupted by user"
     ]
    }
   ],
   "source": [
    "import random\n",
    "#Definimos diccionario preguntas_respuestas (key-value) \n",
    "\n",
    "preguntas_y_respuestas ={\n",
    "    \"¿Cuál es la capital de Francia?\" : 'paris',\n",
    "    \"¿Cuál es el océano más grande del mundo?\" : 'oceano pacifico', \n",
    "    \"¿Cuál es el mar más grande del mundo?\" : 'mar caspio',\n",
    "    \"¿Cuál es la capital de España?\" : \"madrid\",\n",
    "    \"¿Cuál es el río más largo del mundo?\" : \"rio amazonas\",\n",
    "    \"¿En qué continente se encuentra el desierto del Sahara?\": \"africa\",\n",
    "    \"¿Cuál es la capital de Argentina?\" : \"buenos aires\",\n",
    "    \"¿Cuál es la montaña más alta del mundo?\" : \"everest\",\n",
    "    \"¿Cuál es el lago más grande de América del Norte?\" : \"lago superior\",\n",
    "    \"¿Cuál es el río más largo de Europa?\" : \"rio volga\",\n",
    "    \"¿Cuál es el país más grande del mundo por área terrestre?\" : \"rusia\", \n",
    "    \"¿Cuál es el país que tiene la mayor población del mundo?\" : \"china\",\n",
    "    \"¿Cuál es el punto más bajo de la Tierra?\" : \"mar muerto\",\n",
    "    \"¿Cómo se llama la meseta más grande de España?\" : \"castellana\",\n",
    "    \"¿Cuál es la capital de Suiza?\" : \"berna\",\n",
    "    \"¿Cuál es la montaña más alta de España?\" : \"culhacen\",\n",
    "    \"¿Cuál es el río más largo de España?\" : \"rio ebro\",\n",
    "    \n",
    "}\n",
    "\n",
    "\n",
    "#establecemos marcadores para llevar cuenta de respuestas correctas e incorrectas \n",
    "respuestas_correctas = 0 \n",
    "respuestas_incorrectas = 0 \n",
    "\n",
    "#sacamos listas de claves y valores.\n",
    "\n",
    "lista_preguntas = list(preguntas_y_respuestas.keys())\n",
    "lista_respuestas = list(preguntas_y_respuestas.values())\n",
    "\n",
    "#Buscamos pregunta aleatoria de nuestra lista de preguntas y se le muestra al usuario\n",
    "#pregunta = random.choice(lista_preguntas)\n",
    "#print(pregunta)\n",
    "#El usuario responde\n",
    "#respuesta = input('Inserte aquí su respuesta:').lower()\n",
    "\n",
    "\n",
    "\n",
    "#Establecemos contador de respuestas correctas e incorrectas a 0 para iniciar juego\n",
    "respuestas_incorrectas = 0\n",
    "respuestas_correctas = 0\n",
    "\n",
    "\n",
    "#Comenzamos bucle while\n",
    "while respuestas_correctas <= 5 or respuestas_incorrectas < 3:\n",
    "    pregunta = random.choice(lista_preguntas)\n",
    "    input(pregunta)\n",
    "    respuesta_usuario = input('Inserte aquí su respuesta: ').lower()\n",
    "    \n",
    "    if respuesta_usuario == preguntas_y_respuestas[pregunta]:\n",
    "        print(\"¡Respuesta correcta!\")\n",
    "        respuestas_correctas += 1\n",
    "    else:\n",
    "        print(\"Respuesta incorrecta. Inténtalo de nuevo.\")\n",
    "        respuestas_incorrectas += 1\n",
    " \n",
    "    \n",
    "if respuestas_correctas == 5:\n",
    "    print('¡Felicidades!¡Has ganado!')\n",
    "    print(f'Has acertado {respuestas_correctas} preguntas')\n",
    "    print(f'Has fallado {respuestas_incorrectas} preguntas')\n",
    "    break\n",
    "     \n",
    "else:\n",
    "    print('¡Lo siento, has perdido la partida!')\n",
    "    print(f'Has acertado {respuestas_correctas} preguntas')\n",
    "    print(f'Has fallado {respuestas_incorrectas} preguntas')"
   ]
  }
 ],
 "metadata": {
  "kernelspec": {
   "display_name": "base",
   "language": "python",
   "name": "python3"
  },
  "language_info": {
   "codemirror_mode": {
    "name": "ipython",
    "version": 3
   },
   "file_extension": ".py",
   "mimetype": "text/x-python",
   "name": "python",
   "nbconvert_exporter": "python",
   "pygments_lexer": "ipython3",
   "version": "3.9.7"
  }
 },
 "nbformat": 4,
 "nbformat_minor": 2
}
