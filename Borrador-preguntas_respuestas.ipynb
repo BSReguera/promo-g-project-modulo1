{
 "cells": [
  {
   "cell_type": "code",
   "execution_count": 1,
   "metadata": {},
   "outputs": [
    {
     "name": "stdout",
     "output_type": "stream",
     "text": [
      "¿Cuál es la capital de Argentina?\n",
      "Respuesta incorrecta. Inténtalo de nuevo.\n",
      "¿Cuál es el mar más grande del mundo?\n",
      "Respuesta incorrecta. Inténtalo de nuevo.\n",
      "¿Cuál es la montaña más alta del mundo?\n",
      "Respuesta incorrecta. Inténtalo de nuevo.\n",
      "¡Lo siento, has perdido la partida!\n",
      "Has acertado 0 preguntas\n",
      "Has fallado 3 preguntas\n"
     ]
    }
   ],
   "source": [
    "import random\n",
    "#Definimos diccionario preguntas_respuestas (key-value) \n",
    "\n",
    "preguntas_y_respuestas ={\n",
    "    \"¿Cuál es la capital de Francia?\" : 'paris',\n",
    "    \"¿Cuál es el océano más grande del mundo?\" : 'oceano pacifico', \n",
    "    \"¿Cuál es el mar más grande del mundo?\" : 'mar caspio',\n",
    "    \"¿Cuál es la capital de España?\" : \"madrid\",\n",
    "    \"¿Cuál es el río más largo del mundo?\" : \"rio amazonas\",\n",
    "    \"¿En qué continente se encuentra el desierto del Sahara?\": \"africa\",\n",
    "    \"¿Cuál es la capital de Argentina?\" : \"buenos aires\",\n",
    "    \"¿Cuál es la montaña más alta del mundo?\" : \"everest\",\n",
    "    \"¿Cuál es el lago más grande de América del Norte?\" : \"lago superior\",\n",
    "    \"¿Cuál es el río más largo de Europa?\" : \"rio volga\",\n",
    "    \"¿Cuál es el país más grande del mundo por área terrestre?\" : \"rusia\", \n",
    "    \"¿Cuál es el país que tiene la mayor población del mundo?\" : \"china\",\n",
    "    \"¿Cuál es el punto más bajo de la Tierra?\" : \"mar muerto\",\n",
    "    \"¿Cómo se llama la meseta más grande de España?\" : \"castellana\",\n",
    "    \"¿Cuál es la capital de Suiza?\" : \"berna\",\n",
    "    \"¿Cuál es la montaña más alta de España?\" : \"mulhacen\",\n",
    "    \"¿Cuál es el río más largo de España?\" : \"rio ebro\",}\n",
    "\n",
    "#establecemos marcadores para llevar cuenta de respuestas correctas e incorrectas \n",
    "respuestas_correctas = 0 \n",
    "respuestas_incorrectas = 0 \n",
    "\n",
    "#sacamos listas de claves y valores.\n",
    "\n",
    "lista_preguntas = list(preguntas_y_respuestas.keys())\n",
    "lista_respuestas = list(preguntas_y_respuestas.values())\n",
    "\n",
    "#Buscamos pregunta aleatoria de nuestra lista de preguntas y se le muestra al usuario\n",
    "#pregunta = random.choice(lista_preguntas)\n",
    "#print(pregunta)\n",
    "#El usuario responde\n",
    "#respuesta = input('Inserte aquí su respuesta:').lower()\n",
    "\n",
    "\n",
    "#Establecemos contador de respuestas correctas e incorrectas a 0 para iniciar juego\n",
    "respuestas_incorrectas = 0\n",
    "respuestas_correctas = 0\n",
    "\n",
    "#Comenzamos bucle while\n",
    "while respuestas_correctas < 5 and respuestas_incorrectas < 3:\n",
    "    pregunta = random.choice(lista_preguntas)\n",
    "    print(pregunta)\n",
    "    respuesta_usuario = input('Inserte aquí su respuesta: ').lower()\n",
    "\n",
    "    if respuesta_usuario == preguntas_y_respuestas[pregunta]:\n",
    "        print(\"¡Respuesta correcta!\")\n",
    "        respuestas_correctas += 1\n",
    "    else:\n",
    "        print(\"Respuesta incorrecta. Inténtalo de nuevo.\")\n",
    "        respuestas_incorrectas += 1\n",
    "\n",
    "if respuestas_correctas == 5:\n",
    "    print('¡Felicidades!¡Has ganado!')\n",
    "    print(f'Has acertado {respuestas_correctas} preguntas')\n",
    "    print(f'Has fallado {respuestas_incorrectas} preguntas')\n",
    "else:\n",
    "    print('¡Lo siento, has perdido la partida!')\n",
    "    print(f'Has acertado {respuestas_correctas} preguntas')\n",
    "    print(f'Has fallado {respuestas_incorrectas} preguntas')"
   ]
  }
 ],
 "metadata": {
  "kernelspec": {
   "display_name": "base",
   "language": "python",
   "name": "python3"
  },
  "language_info": {
   "codemirror_mode": {
    "name": "ipython",
    "version": 3
   },
   "file_extension": ".py",
   "mimetype": "text/x-python",
   "name": "python",
   "nbconvert_exporter": "python",
   "pygments_lexer": "ipython3",
   "version": "3.11.5"
  }
 },
 "nbformat": 4,
 "nbformat_minor": 2
}
