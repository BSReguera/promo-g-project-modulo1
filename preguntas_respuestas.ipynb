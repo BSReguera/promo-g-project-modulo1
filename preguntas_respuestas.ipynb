{
 "cells": [
  {
   "cell_type": "markdown",
   "metadata": {},
   "source": [
    "# Preguntas y Respuestas\n",
    "\n",
    "**Objetivo:** Hacer una pregunta y recibir una respuesta.\n",
    "\n",
    "Hola prueba"
   ]
  },
  {
   "cell_type": "code",
   "execution_count": 88,
   "metadata": {},
   "outputs": [
    {
     "name": "stdout",
     "output_type": "stream",
     "text": [
      "pregunta c\n",
      "Has fallado. Intentalo de nuevo\n",
      "pregunta c\n",
      "Has fallado. Intentalo de nuevo\n"
     ]
    },
    {
     "ename": "ValueError",
     "evalue": "list.remove(x): x not in list",
     "output_type": "error",
     "traceback": [
      "\u001b[0;31m---------------------------------------------------------------------------\u001b[0m",
      "\u001b[0;31mValueError\u001b[0m                                Traceback (most recent call last)",
      "\u001b[0;32m/var/folders/z0/ptwngvg97wndky1th_f_rz8r0000gp/T/ipykernel_30916/2795279894.py\u001b[0m in \u001b[0;36m<module>\u001b[0;34m\u001b[0m\n\u001b[1;32m     34\u001b[0m     \u001b[0mprint\u001b[0m\u001b[0;34m(\u001b[0m\u001b[0;34m\"Has fallado. Intentalo de nuevo\"\u001b[0m\u001b[0;34m)\u001b[0m\u001b[0;34m\u001b[0m\u001b[0;34m\u001b[0m\u001b[0m\n\u001b[1;32m     35\u001b[0m     \u001b[0mrespuestas_incorrectas\u001b[0m \u001b[0;34m+=\u001b[0m \u001b[0;36m1\u001b[0m\u001b[0;34m\u001b[0m\u001b[0;34m\u001b[0m\u001b[0m\n\u001b[0;32m---> 36\u001b[0;31m     \u001b[0mlista_nuevas_pregunta\u001b[0m \u001b[0;34m=\u001b[0m \u001b[0mlista_preguntas\u001b[0m\u001b[0;34m.\u001b[0m\u001b[0mremove\u001b[0m\u001b[0;34m(\u001b[0m\u001b[0mpregunta\u001b[0m\u001b[0;34m)\u001b[0m\u001b[0;34m\u001b[0m\u001b[0;34m\u001b[0m\u001b[0m\n\u001b[0m\u001b[1;32m     37\u001b[0m     \u001b[0mprint\u001b[0m\u001b[0;34m(\u001b[0m\u001b[0mpregunta\u001b[0m\u001b[0;34m)\u001b[0m\u001b[0;34m\u001b[0m\u001b[0;34m\u001b[0m\u001b[0m\n\u001b[1;32m     38\u001b[0m     \u001b[0mrespuesta\u001b[0m \u001b[0;34m=\u001b[0m \u001b[0minput\u001b[0m\u001b[0;34m(\u001b[0m\u001b[0;34m)\u001b[0m\u001b[0;34m\u001b[0m\u001b[0;34m\u001b[0m\u001b[0m\n",
      "\u001b[0;31mValueError\u001b[0m: list.remove(x): x not in list"
     ]
    }
   ],
   "source": [
    "import random\n",
    "\n",
    "# 2 Creamos multiples preguntas con sus respuestas:\n",
    "\n",
    "preguntas_y_respuestas = {\"pregunta a\":\"a\", \"pregunta b\": \"b\", \"pregunta c\": \"c\"}\n",
    "\n",
    "# 5.1 crear marcadores para llevar un seguimiento de las respuestas correctas e incorrectas\n",
    "\n",
    "respuestas_correctas = 0 \n",
    "respuestas_incorrectas = 0 \n",
    "\n",
    "\n",
    "# 3 poder preguntar por una key del diccionario \n",
    "\n",
    "lista_preguntas = list(preguntas_y_respuestas.keys())\n",
    "lista_respuestas = list(preguntas_y_respuestas.values())\n",
    "#print(lista_preguntas)\n",
    "#print(lista_preguntas[0])\n",
    "#indice = 0 \n",
    "\n",
    "#for pregunta in preguntas_y_respuestas: \n",
    "    #print(pregunta)\n",
    "\n",
    "#1 Poder hacer una pregunta y poder recibir una respuesta: \n",
    "pregunta = random.choice(lista_preguntas)\n",
    "print(pregunta)\n",
    "respuesta_es_correcta = preguntas_y_respuestas.get(pregunta)\n",
    "respuesta = input()\n",
    "\n",
    "# 4 comprobar respuesta dada por el usuario \n",
    "lista_respuestas = list(preguntas_y_respuestas.values())\n",
    "\n",
    "while respuesta != respuesta_es_correcta:\n",
    "    print(\"Has fallado. Intentalo de nuevo\")\n",
    "    respuestas_incorrectas += 1\n",
    "    lista_nuevas_pregunta = lista_preguntas.remove(pregunta)\n",
    "    print(pregunta)\n",
    "    respuesta = input()\n",
    "else: \n",
    "    print(\"hola\")\n",
    "\n",
    "\n",
    "\n",
    "\n",
    "\n",
    "\n",
    "#5.1 llevar un seguimiento del contador\n",
    "\n",
    "# 6 limitar los marcadores\n",
    "        \n",
    "# 7 sacar la pregunta aleatoria\n",
    "\n",
    "# 8 eliminar pregunta formulada de lista de preguntas para que no se repita \n",
    "\n",
    "# 9 cogemos la respuesta correcta asociada a la pregunta \n",
    "\n",
    "# 10. pasar por todas las preguntas\n",
    "\n",
    "\n",
    "\n",
    "\n",
    "        \n",
    "        \n",
    "\n",
    "    "
   ]
  },
  {
   "cell_type": "code",
   "execution_count": null,
   "metadata": {},
   "outputs": [],
   "source": []
  },
  {
   "cell_type": "code",
   "execution_count": 79,
   "metadata": {},
   "outputs": [
    {
     "name": "stdout",
     "output_type": "stream",
     "text": [
      "hola\n"
     ]
    }
   ],
   "source": [
    "while respuesta != respuesta_es_correcta:\n",
    "    print(\"Has fallado. Intentalo de nuevo\")\n",
    "    respuestas_incorrectas += 1\n",
    "    lista_preguntas.remove(pregunta)\n",
    "    print(pregunta)\n",
    "    respuesta = input()\n",
    "else: \n",
    "    print(\"hola\")\n",
    "    ---\n",
    "\n",
    "if respuesta != respuesta_es_correcta:\n",
    "    print(\"Has fallado. Intentalo de nuevo\")\n",
    "    respuestas_incorrectas += 1\n",
    "    print(\"nueva pregunta\")\n",
    "    respuesta = input()\n",
    "    #if respuestas_incorrectas == 3: #pendiente de probar \n",
    "        #print(\"fin del juego\")\n",
    "if respuesta == respuesta_es_correcta:\n",
    "    print(\"muy bien\")\n",
    "    respuestas_correctas += 1\n",
    "    #if respuestas_correctas == 5: #pendiente de probar\n",
    "        #print(\"fin del juego\")\n",
    "\n",
    "while respuestas_incorrectas < 3 or respuestas_correctas < 5: \n",
    "    print(\"sigue jugando\")\n",
    "\n",
    "    "
   ]
  },
  {
   "cell_type": "code",
   "execution_count": null,
   "metadata": {},
   "outputs": [],
   "source": [
    "while numero1 != numero2:\n",
    "    print (\"Has fallado. Intentalo de nuevo\")\n",
    "    numero2 = int(input(\"Adivina el número del jugador 1\"))\n",
    "if numero1 == numero2: \n",
    "    print(\"Respuesta correcta\")"
   ]
  },
  {
   "cell_type": "code",
   "execution_count": 85,
   "metadata": {},
   "outputs": [
    {
     "ename": "IndexError",
     "evalue": "list index out of range",
     "output_type": "error",
     "traceback": [
      "\u001b[0;31m---------------------------------------------------------------------------\u001b[0m",
      "\u001b[0;31mIndexError\u001b[0m                                Traceback (most recent call last)",
      "\u001b[0;32m/var/folders/z0/ptwngvg97wndky1th_f_rz8r0000gp/T/ipykernel_30916/3054142598.py\u001b[0m in \u001b[0;36m<module>\u001b[0;34m\u001b[0m\n\u001b[1;32m      1\u001b[0m \u001b[0;32mimport\u001b[0m \u001b[0mrandom\u001b[0m\u001b[0;34m\u001b[0m\u001b[0;34m\u001b[0m\u001b[0m\n\u001b[0;32m----> 2\u001b[0;31m \u001b[0mpregunta\u001b[0m \u001b[0;34m=\u001b[0m \u001b[0mrandom\u001b[0m\u001b[0;34m.\u001b[0m\u001b[0mchoice\u001b[0m\u001b[0;34m(\u001b[0m\u001b[0mlista_preguntas\u001b[0m\u001b[0;34m)\u001b[0m\u001b[0;34m\u001b[0m\u001b[0;34m\u001b[0m\u001b[0m\n\u001b[0m\u001b[1;32m      3\u001b[0m \u001b[0mprint\u001b[0m\u001b[0;34m(\u001b[0m\u001b[0mpregunta\u001b[0m\u001b[0;34m)\u001b[0m\u001b[0;34m\u001b[0m\u001b[0;34m\u001b[0m\u001b[0m\n\u001b[1;32m      4\u001b[0m \u001b[0mlista_preguntas\u001b[0m\u001b[0;34m.\u001b[0m\u001b[0mremove\u001b[0m\u001b[0;34m(\u001b[0m\u001b[0mpregunta\u001b[0m\u001b[0;34m)\u001b[0m\u001b[0;34m\u001b[0m\u001b[0;34m\u001b[0m\u001b[0m\n\u001b[1;32m      5\u001b[0m \u001b[0mprint\u001b[0m\u001b[0;34m(\u001b[0m\u001b[0mpregunta\u001b[0m\u001b[0;34m)\u001b[0m\u001b[0;34m\u001b[0m\u001b[0;34m\u001b[0m\u001b[0m\n",
      "\u001b[0;32m~/opt/anaconda3/lib/python3.9/random.py\u001b[0m in \u001b[0;36mchoice\u001b[0;34m(self, seq)\u001b[0m\n\u001b[1;32m    344\u001b[0m         \u001b[0;34m\"\"\"Choose a random element from a non-empty sequence.\"\"\"\u001b[0m\u001b[0;34m\u001b[0m\u001b[0;34m\u001b[0m\u001b[0m\n\u001b[1;32m    345\u001b[0m         \u001b[0;31m# raises IndexError if seq is empty\u001b[0m\u001b[0;34m\u001b[0m\u001b[0;34m\u001b[0m\u001b[0m\n\u001b[0;32m--> 346\u001b[0;31m         \u001b[0;32mreturn\u001b[0m \u001b[0mseq\u001b[0m\u001b[0;34m[\u001b[0m\u001b[0mself\u001b[0m\u001b[0;34m.\u001b[0m\u001b[0m_randbelow\u001b[0m\u001b[0;34m(\u001b[0m\u001b[0mlen\u001b[0m\u001b[0;34m(\u001b[0m\u001b[0mseq\u001b[0m\u001b[0;34m)\u001b[0m\u001b[0;34m)\u001b[0m\u001b[0;34m]\u001b[0m\u001b[0;34m\u001b[0m\u001b[0;34m\u001b[0m\u001b[0m\n\u001b[0m\u001b[1;32m    347\u001b[0m \u001b[0;34m\u001b[0m\u001b[0m\n\u001b[1;32m    348\u001b[0m     \u001b[0;32mdef\u001b[0m \u001b[0mshuffle\u001b[0m\u001b[0;34m(\u001b[0m\u001b[0mself\u001b[0m\u001b[0;34m,\u001b[0m \u001b[0mx\u001b[0m\u001b[0;34m,\u001b[0m \u001b[0mrandom\u001b[0m\u001b[0;34m=\u001b[0m\u001b[0;32mNone\u001b[0m\u001b[0;34m)\u001b[0m\u001b[0;34m:\u001b[0m\u001b[0;34m\u001b[0m\u001b[0;34m\u001b[0m\u001b[0m\n",
      "\u001b[0;31mIndexError\u001b[0m: list index out of range"
     ]
    }
   ],
   "source": [
    "import random \n",
    "pregunta = random.choice(lista_preguntas)\n",
    "print(pregunta)\n",
    "lista_preguntas.remove(pregunta)\n",
    "print(pregunta)"
   ]
  },
  {
   "cell_type": "code",
   "execution_count": 68,
   "metadata": {},
   "outputs": [
    {
     "name": "stdout",
     "output_type": "stream",
     "text": [
      "['a', 'b', 'c']\n"
     ]
    }
   ],
   "source": [
    "print(lista_respuestas)"
   ]
  },
  {
   "cell_type": "code",
   "execution_count": 70,
   "metadata": {},
   "outputs": [],
   "source": [
    "respuesta_es_correcta = preguntas_y_respuestas.get(pregunta)"
   ]
  },
  {
   "cell_type": "code",
   "execution_count": null,
   "metadata": {},
   "outputs": [],
   "source": [
    "while respuesta != respuesta_es_correcta:\n",
    "    print(\"Has fallado. Intentalo de nuevo\")\n",
    "    respuestas_incorrectas += 1\n",
    "    print(\"nueva pregunta\")\n",
    "    respuesta = input()\n",
    "    if respuestas_incorrectas == 3: #pendiente de probar \n",
    "        print(\"fin del juego\")\n",
    "if respuesta == respuesta_es_correcta:\n",
    "    print(\"muy bien\")\n",
    "    respuestas_correctas += 1\n",
    "    if respuestas_correctas == 5: #pendiente de probar\n",
    "        print(\"fin del juego\")"
   ]
  },
  {
   "cell_type": "code",
   "execution_count": 72,
   "metadata": {},
   "outputs": [
    {
     "name": "stdout",
     "output_type": "stream",
     "text": [
      "c\n"
     ]
    }
   ],
   "source": [
    "pregunta = random.choice(lista_preguntas)\n",
    "print(pregunta)"
   ]
  }
 ],
 "metadata": {
  "kernelspec": {
   "display_name": "base",
   "language": "python",
   "name": "python3"
  },
  "language_info": {
   "codemirror_mode": {
    "name": "ipython",
    "version": 3
   },
   "file_extension": ".py",
   "mimetype": "text/x-python",
   "name": "python",
   "nbconvert_exporter": "python",
   "pygments_lexer": "ipython3",
   "version": "3.9.7"
  }
 },
 "nbformat": 4,
 "nbformat_minor": 2
}
