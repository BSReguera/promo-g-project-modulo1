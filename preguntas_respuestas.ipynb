{
 "cells": [
  {
   "cell_type": "markdown",
   "metadata": {},
   "source": [
    "# Preguntas y Respuestas\n",
    "\n",
    "**Objetivo:** Hacer una pregunta y recibir una respuesta.\n"
   ]
  },
  {
   "cell_type": "code",
   "execution_count": 1,
   "metadata": {},
   "outputs": [
    {
     "name": "stdout",
     "output_type": "stream",
     "text": [
      "pregunta a\n",
      "Has fallado. Intentalo de nuevo\n"
     ]
    }
   ],
   "source": [
    "#Notas para futuro: añadir funcion pregunta/respuesta (cuando lo veamos) y for (cada pregunta) comparando con marcador\n",
    "\n",
    "import random\n",
    "\n",
    "# 2 Creamos multiples preguntas con sus respuestas:\n",
    "\n",
    "preguntas_y_respuestas = {\"pregunta a\":\"a\", \"pregunta b\": \"b\", \"pregunta c\": \"c\"}\n",
    "\n",
    "# 5.1 crear marcadores para llevar un seguimiento de las respuestas correctas e incorrectas\n",
    "\n",
    "respuestas_correctas = 0 \n",
    "respuestas_incorrectas = 0 \n",
    "\n",
    "\n",
    "# 3 poder preguntar por una key del diccionario \n",
    "\n",
    "lista_preguntas = list(preguntas_y_respuestas.keys())\n",
    "lista_respuestas = list(preguntas_y_respuestas.values())\n",
    "#print(lista_preguntas)\n",
    "#print(lista_preguntas[0])\n",
    "#indice = 0 \n",
    "\n",
    "#for pregunta in preguntas_y_respuestas: \n",
    "    #print(pregunta)\n",
    "\n",
    "#1 Poder hacer una pregunta y poder recibir una respuesta: \n",
    "pregunta = random.choice(lista_preguntas)\n",
    "print(pregunta)\n",
    "respuesta_es_correcta = preguntas_y_respuestas.get(pregunta)\n",
    "respuesta = input()\n",
    "\n",
    "# 4 comprobar respuesta dada por el usuario \n",
    "# updaate dom 4/02: comento parte del código que da errores.  \n",
    "lista_respuestas = list(preguntas_y_respuestas.values())\n",
    "\n",
    "while respuesta != respuesta_es_correcta:\n",
    "    print(\"Has fallado. Intentalo de nuevo\")\n",
    "    #respuestas_incorrectas += 1\n",
    "    #lista_preguntas.remove(pregunta)\n",
    "    #print(pregunta)\n",
    "    #respuesta = input()\n",
    "    break #para evitar bucle infinito\n",
    "else: \n",
    "    print(\"hola\")\n",
    "\n",
    "\n",
    "\n",
    "\n",
    "\n",
    "\n",
    "#5.1 llevar un seguimiento del contador\n",
    "\n",
    "# 6 limitar los marcadores\n",
    "        \n",
    "# 7 sacar la pregunta aleatoria\n",
    "\n",
    "# 8 eliminar pregunta formulada de lista de preguntas para que no se repita \n",
    "\n",
    "# 9 cogemos la respuesta correcta asociada a la pregunta \n",
    "\n",
    "# 10. pasar por todas las preguntas\n",
    "\n",
    "\n",
    "\n",
    "\n",
    "        \n",
    "        \n",
    "\n",
    "    "
   ]
  }
 ],
 "metadata": {
  "kernelspec": {
   "display_name": "base",
   "language": "python",
   "name": "python3"
  },
  "language_info": {
   "codemirror_mode": {
    "name": "ipython",
    "version": 3
   },
   "file_extension": ".py",
   "mimetype": "text/x-python",
   "name": "python",
   "nbconvert_exporter": "python",
   "pygments_lexer": "ipython3",
   "version": "0.0.0"
  }
 },
 "nbformat": 4,
 "nbformat_minor": 2
}
